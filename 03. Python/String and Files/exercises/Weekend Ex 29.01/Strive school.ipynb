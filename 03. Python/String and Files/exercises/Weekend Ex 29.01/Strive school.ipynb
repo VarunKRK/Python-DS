{
 "cells": [
  {
   "cell_type": "code",
   "execution_count": 15,
   "metadata": {},
   "outputs": [
    {
     "data": {
      "text/plain": [
       "[1, 2, 'strive', 'school', 'strive school']"
      ]
     },
     "execution_count": 15,
     "metadata": {},
     "output_type": "execute_result"
    }
   ],
   "source": [
    "def div(n):\n",
    "\n",
    "    r = [] # Empty list to add itens after looping\n",
    "\n",
    "    for i in n: # Loop the items in the list\n",
    "\n",
    "        if i%3 == 0 and i%5 == 0: # Condition for numbers divisible by 3 and 5\n",
    "            r.append('strive school') #adding to the empty list\n",
    "\n",
    "        elif i%3 == 0: # Condition for numbers divisible by 3\n",
    "            r.append('strive') #adding to the empty list\n",
    "\n",
    "        elif i%5 == 0: # Condition for numbers divisible by 5\n",
    "            r.append('school') #adding to the empty list\n",
    "\n",
    "        else:\n",
    "            r.append(i) \n",
    "      \n",
    "    return r\n",
    "\n",
    "n = [1,2,3,5,15]\n",
    "div(n)   "
   ]
  }
 ],
 "metadata": {
  "interpreter": {
   "hash": "8e98eea00a698c66ff9007bd5a8bf6209cdaa78d416205c57d24ef9296d8223a"
  },
  "kernelspec": {
   "display_name": "Python 3.7.11 64-bit ('strive': conda)",
   "language": "python",
   "name": "python3"
  },
  "language_info": {
   "codemirror_mode": {
    "name": "ipython",
    "version": 3
   },
   "file_extension": ".py",
   "mimetype": "text/x-python",
   "name": "python",
   "nbconvert_exporter": "python",
   "pygments_lexer": "ipython3",
   "version": "3.7.11"
  },
  "orig_nbformat": 4
 },
 "nbformat": 4,
 "nbformat_minor": 2
}
