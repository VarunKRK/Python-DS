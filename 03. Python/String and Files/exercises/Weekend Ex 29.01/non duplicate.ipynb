{
 "cells": [
  {
   "cell_type": "code",
   "execution_count": 9,
   "metadata": {},
   "outputs": [
    {
     "data": {
      "text/plain": [
       "[1]"
      ]
     },
     "execution_count": 9,
     "metadata": {},
     "output_type": "execute_result"
    }
   ],
   "source": [
    "def non_dp(n):\n",
    "\n",
    "    count = 0 # For counting the duplicates\n",
    "    r = [] # Empty list for appending the non duplicates items\n",
    "\n",
    "    for i in n:\n",
    "\n",
    "        if n.count(i)>1: # Condition for items count greater than 1\n",
    "            n.pop(i) # pop() removes the item if count is greater than 1\n",
    "\n",
    "        else:\n",
    "            r.append(i) # Adds the result to empty list\n",
    "\n",
    "    return r\n",
    "\n",
    "n = [1,2,2,3,3]\n",
    "non_dp(n)\n",
    "\n"
   ]
  }
 ],
 "metadata": {
  "interpreter": {
   "hash": "8e98eea00a698c66ff9007bd5a8bf6209cdaa78d416205c57d24ef9296d8223a"
  },
  "kernelspec": {
   "display_name": "Python 3.7.11 64-bit ('strive': conda)",
   "language": "python",
   "name": "python3"
  },
  "language_info": {
   "codemirror_mode": {
    "name": "ipython",
    "version": 3
   },
   "file_extension": ".py",
   "mimetype": "text/x-python",
   "name": "python",
   "nbconvert_exporter": "python",
   "pygments_lexer": "ipython3",
   "version": "3.7.11"
  },
  "orig_nbformat": 4
 },
 "nbformat": 4,
 "nbformat_minor": 2
}
