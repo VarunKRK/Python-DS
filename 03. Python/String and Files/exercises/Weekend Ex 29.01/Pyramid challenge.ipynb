{
 "cells": [
  {
   "cell_type": "code",
   "execution_count": 7,
   "metadata": {},
   "outputs": [
    {
     "name": "stdout",
     "output_type": "stream",
     "text": [
      "#\n",
      "##\n",
      "###\n",
      "####\n",
      "#####\n"
     ]
    }
   ],
   "source": [
    "def pyramid(n):\n",
    "\n",
    "    #Outer loop for getting rows\n",
    "    for i in range(0, n):\n",
    "\n",
    "        #Inner loop for getting coloumns\n",
    "        for j in range(0, i+1):\n",
    "\n",
    "            # Printing '#'\n",
    "            print('#', end = '')\n",
    "\n",
    "        # Moving to next line\n",
    "        print('\\r')\n",
    "\n",
    "pyramid(5)"
   ]
  }
 ],
 "metadata": {
  "interpreter": {
   "hash": "8e98eea00a698c66ff9007bd5a8bf6209cdaa78d416205c57d24ef9296d8223a"
  },
  "kernelspec": {
   "display_name": "Python 3.7.11 64-bit ('strive': conda)",
   "language": "python",
   "name": "python3"
  },
  "language_info": {
   "codemirror_mode": {
    "name": "ipython",
    "version": 3
   },
   "file_extension": ".py",
   "mimetype": "text/x-python",
   "name": "python",
   "nbconvert_exporter": "python",
   "pygments_lexer": "ipython3",
   "version": "3.7.11"
  },
  "orig_nbformat": 4
 },
 "nbformat": 4,
 "nbformat_minor": 2
}
