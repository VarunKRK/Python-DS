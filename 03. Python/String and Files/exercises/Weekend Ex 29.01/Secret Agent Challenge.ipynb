{
 "cells": [
  {
   "cell_type": "code",
   "execution_count": 9,
   "metadata": {},
   "outputs": [],
   "source": [
    "def sac(people, pairs):\n",
    "    if people <= 0 or len(pairs) > people:\n",
    "        return -1\n",
    "    for i in pairs:\n",
    "        if len(i) != 2:\n",
    "            return -1\n",
    "\n",
    "    ns = []\n",
    "    for i in pairs:\n",
    "        ns.append(i[1])\n",
    "    \n",
    "\n",
    "    s = []\n",
    "    for i in pairs:\n",
    "        if i[0] not in ns:\n",
    "            s.append(i[0])\n",
    "\n",
    "        return s\n",
    "\n",
    "    if len(s) <= 0:\n",
    "        return 0"
   ]
  },
  {
   "cell_type": "code",
   "execution_count": 10,
   "metadata": {},
   "outputs": [
    {
     "data": {
      "text/plain": [
       "['varun']"
      ]
     },
     "execution_count": 10,
     "metadata": {},
     "output_type": "execute_result"
    }
   ],
   "source": [
    "sac(3,[['varun', 'jeno'], ['varun', 'felix'], ['jeno', 'felix']])"
   ]
  },
  {
   "cell_type": "code",
   "execution_count": 11,
   "metadata": {},
   "outputs": [
    {
     "data": {
      "text/plain": [
       "[]"
      ]
     },
     "execution_count": 11,
     "metadata": {},
     "output_type": "execute_result"
    }
   ],
   "source": [
    "sac(3,[['varun', 'jeno'], ['felix', 'varun'], ['jeno', 'felix']])"
   ]
  },
  {
   "cell_type": "code",
   "execution_count": 12,
   "metadata": {},
   "outputs": [
    {
     "data": {
      "text/plain": [
       "['hero']"
      ]
     },
     "execution_count": 12,
     "metadata": {},
     "output_type": "execute_result"
    }
   ],
   "source": [
    "sac(3,[['hero', 'jeno'], ['charan', 'varun'], ['jeno', 'felix']])"
   ]
  }
 ],
 "metadata": {
  "interpreter": {
   "hash": "8e98eea00a698c66ff9007bd5a8bf6209cdaa78d416205c57d24ef9296d8223a"
  },
  "kernelspec": {
   "display_name": "Python 3.7.11 64-bit ('strive': conda)",
   "language": "python",
   "name": "python3"
  },
  "language_info": {
   "codemirror_mode": {
    "name": "ipython",
    "version": 3
   },
   "file_extension": ".py",
   "mimetype": "text/x-python",
   "name": "python",
   "nbconvert_exporter": "python",
   "pygments_lexer": "ipython3",
   "version": "3.7.11"
  },
  "orig_nbformat": 4
 },
 "nbformat": 4,
 "nbformat_minor": 2
}
