{
 "cells": [
  {
   "cell_type": "markdown",
   "metadata": {},
   "source": [
    "**Exercise 6.3:** In the text below, count how often the word \"wood\" occurs (using program code, of course). Capitals and lower case letters may both be used, and you have to consider that the word \"wood\" should be a separate word, and not part of another word. Hint: If you did the exercises from this chapter, you already developed a function that \"cleans\" a text. Combining that function with the `split()` function more or less solves the problem for you."
   ]
  },
  {
   "cell_type": "code",
   "execution_count": 4,
   "metadata": {},
   "outputs": [
    {
     "data": {
      "text/plain": [
       "['if', 'a', 'woodchuck']"
      ]
     },
     "execution_count": 4,
     "metadata": {},
     "output_type": "execute_result"
    }
   ],
   "source": [
    "text = \"\"\"How much wood would a woodchuck chuck\n",
    "If a woodchuck could chuck wood?\n",
    "He would chuck, he would, as much as he could,\n",
    "And chuck as much as a woodchuck would\n",
    "If a Mr. Smith could chuck wood\\n\\r\\t.\"\"\"\n",
    "\n",
    "# read whole text\n",
    "# create a counter\n",
    "# get rid \\n\n",
    "# get rid of ?. special grammar\n",
    "# lowercase my sentence\n",
    "\"if a woodchuck could chuck wood\"\n",
    "# split the string by some character\n",
    "[\"if\", \"a\", \"woodchuck\"]\n",
    "#check if wood is in the list\n",
    "    # if yes\n",
    "       # counter = counter +1 <--> counter += 1 \n",
    "    # else\n",
    "        #pass\n",
    "#return\n",
    "        "
   ]
  },
  {
   "cell_type": "code",
   "execution_count": 5,
   "metadata": {},
   "outputs": [
    {
     "ename": "IndentationError",
     "evalue": "expected an indented block (Temp/ipykernel_10904/410527390.py, line 17)",
     "output_type": "error",
     "traceback": [
      "\u001b[1;36m  File \u001b[1;32m\"C:\\Users\\VARUNK~1\\AppData\\Local\\Temp/ipykernel_10904/410527390.py\"\u001b[1;36m, line \u001b[1;32m17\u001b[0m\n\u001b[1;33m    wood_counter(text)\u001b[0m\n\u001b[1;37m                      ^\u001b[0m\n\u001b[1;31mIndentationError\u001b[0m\u001b[1;31m:\u001b[0m expected an indented block\n"
     ]
    }
   ],
   "source": [
    "# Counting wood.\n",
    "def wood_counter(text):\n",
    "    \n",
    "    count = 0\n",
    "    text1 = text.replace('\\n', ' ')\n",
    "    #print(text1)\n",
    "    text2 = text1.replace('?', ' ')\n",
    "    #print(text2)\n",
    "  \n",
    "    w_list = text2.split(' ')\n",
    "    print(w_list)\n",
    "    for i in w_list():\n",
    "        if i == 'wood':\n",
    "            \n",
    "            \n",
    "\n",
    "        \n",
    "wood_counter(text)"
   ]
  }
 ],
 "metadata": {
  "interpreter": {
   "hash": "8e98eea00a698c66ff9007bd5a8bf6209cdaa78d416205c57d24ef9296d8223a"
  },
  "kernelspec": {
   "display_name": "Python 3.7.11 64-bit ('strive': conda)",
   "language": "python",
   "name": "python3"
  },
  "language_info": {
   "codemirror_mode": {
    "name": "ipython",
    "version": 3
   },
   "file_extension": ".py",
   "mimetype": "text/x-python",
   "name": "python",
   "nbconvert_exporter": "python",
   "pygments_lexer": "ipython3",
   "version": "3.7.11"
  },
  "orig_nbformat": 4
 },
 "nbformat": 4,
 "nbformat_minor": 2
}
