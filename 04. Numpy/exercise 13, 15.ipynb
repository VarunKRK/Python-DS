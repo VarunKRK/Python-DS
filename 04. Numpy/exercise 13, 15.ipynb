{
 "cells": [
  {
   "cell_type": "markdown",
   "metadata": {},
   "source": [
    "#### 13. Create a 10x10 array with random values and find the minimum and maximum values (★☆☆)"
   ]
  },
  {
   "cell_type": "code",
   "execution_count": 1,
   "metadata": {},
   "outputs": [],
   "source": [
    "import numpy as np"
   ]
  },
  {
   "cell_type": "code",
   "execution_count": 2,
   "metadata": {},
   "outputs": [
    {
     "data": {
      "text/plain": [
       "array([[0.33583181, 0.82592048, 0.6275378 , 0.72338407, 0.20179078,\n",
       "        0.51937805, 0.39500354, 0.64484486, 0.29322994, 0.58601472],\n",
       "       [0.77194   , 0.34075691, 0.22477934, 0.57418898, 0.18933648,\n",
       "        0.5875498 , 0.88376303, 0.43071995, 0.17158525, 0.82329481],\n",
       "       [0.79024007, 0.86506685, 0.95691219, 0.78237863, 0.52780577,\n",
       "        0.73969455, 0.75133709, 0.67111612, 0.37621003, 0.65609763],\n",
       "       [0.4135257 , 0.57324796, 0.57268242, 0.83625481, 0.52181426,\n",
       "        0.82897842, 0.83594454, 0.7850802 , 0.88882645, 0.54979381],\n",
       "       [0.05695858, 0.1677929 , 0.5846148 , 0.37664587, 0.21406807,\n",
       "        0.5510804 , 0.8386527 , 0.66581684, 0.16624865, 0.24976035],\n",
       "       [0.25956606, 0.57506867, 0.07570982, 0.6796913 , 0.73931752,\n",
       "        0.18155447, 0.40848922, 0.46491877, 0.09809038, 0.94495293],\n",
       "       [0.67142527, 0.58718012, 0.53942335, 0.04404382, 0.63606113,\n",
       "        0.92094571, 0.05245297, 0.35792022, 0.80240802, 0.19252804],\n",
       "       [0.60811263, 0.66303385, 0.36557863, 0.5625817 , 0.71576793,\n",
       "        0.16375608, 0.96281325, 0.65143243, 0.03586031, 0.21502045],\n",
       "       [0.74829642, 0.3146131 , 0.95784517, 0.36611896, 0.21385381,\n",
       "        0.44898565, 0.39551401, 0.22173865, 0.23608772, 0.47038325],\n",
       "       [0.20119712, 0.64220829, 0.35796785, 0.971987  , 0.19147843,\n",
       "        0.73482614, 0.30588702, 0.92247045, 0.07357809, 0.06539409]])"
      ]
     },
     "execution_count": 2,
     "metadata": {},
     "output_type": "execute_result"
    }
   ],
   "source": [
    "e = np.random.random((10,10))\n",
    "e"
   ]
  },
  {
   "cell_type": "code",
   "execution_count": 4,
   "metadata": {},
   "outputs": [
    {
     "name": "stdout",
     "output_type": "stream",
     "text": [
      "0.006425256764006626\n",
      "0.9884510122704377\n"
     ]
    }
   ],
   "source": [
    "s = e.min()\n",
    "l = e.max()\n",
    "print(s)\n",
    "print(l)"
   ]
  },
  {
   "cell_type": "markdown",
   "metadata": {},
   "source": [
    "#### 15. Create a 2d array with 1 on the border and 0 inside (★☆☆) "
   ]
  },
  {
   "cell_type": "code",
   "execution_count": 5,
   "metadata": {},
   "outputs": [
    {
     "data": {
      "text/plain": [
       "array([[1., 1., 1., 1., 1., 1., 1.],\n",
       "       [1., 0., 0., 0., 0., 0., 1.],\n",
       "       [1., 0., 0., 0., 0., 0., 1.],\n",
       "       [1., 0., 0., 0., 0., 0., 1.],\n",
       "       [1., 0., 0., 0., 0., 0., 1.],\n",
       "       [1., 0., 0., 0., 0., 0., 1.],\n",
       "       [1., 0., 0., 0., 0., 0., 1.],\n",
       "       [1., 0., 0., 0., 0., 0., 1.],\n",
       "       [1., 0., 0., 0., 0., 0., 1.],\n",
       "       [1., 1., 1., 1., 1., 1., 1.]])"
      ]
     },
     "execution_count": 5,
     "metadata": {},
     "output_type": "execute_result"
    }
   ],
   "source": [
    "e = np.ones((10,7))\n",
    "e[1:-1, 1:-1] = 0\n",
    "e"
   ]
  }
 ],
 "metadata": {
  "interpreter": {
   "hash": "8e98eea00a698c66ff9007bd5a8bf6209cdaa78d416205c57d24ef9296d8223a"
  },
  "kernelspec": {
   "display_name": "Python 3.7.11 64-bit ('strive': conda)",
   "language": "python",
   "name": "python3"
  },
  "language_info": {
   "codemirror_mode": {
    "name": "ipython",
    "version": 3
   },
   "file_extension": ".py",
   "mimetype": "text/x-python",
   "name": "python",
   "nbconvert_exporter": "python",
   "pygments_lexer": "ipython3",
   "version": "3.7.11"
  },
  "orig_nbformat": 4
 },
 "nbformat": 4,
 "nbformat_minor": 2
}
